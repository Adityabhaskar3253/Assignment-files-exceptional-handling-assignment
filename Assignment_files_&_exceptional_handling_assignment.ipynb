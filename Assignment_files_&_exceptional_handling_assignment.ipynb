{
  "nbformat": 4,
  "nbformat_minor": 0,
  "metadata": {
    "colab": {
      "provenance": []
    },
    "kernelspec": {
      "name": "python3",
      "display_name": "Python 3"
    },
    "language_info": {
      "name": "python"
    }
  },
  "cells": [
    {
      "cell_type": "markdown",
      "source": [
        "# theory questions"
      ],
      "metadata": {
        "id": "o7rVdqrW1E4k"
      }
    },
    {
      "cell_type": "markdown",
      "source": [
        "**1.What is the difference between interpreted and compiled languages?**\n",
        "\n",
        "-> The difference between interpreted and compiled languages is in how they are executed:\n",
        "\n",
        "  **Compiled languages** are translated into machine code by a compiler before execution, making them faster but platform-dependent (e.g., C, C++).\n",
        "\n",
        "   **Interpreted languages** are executed line by line by an interpreter at runtime, making them slower but highly portable (e.g., Python, JavaScript).\n",
        "\n"
      ],
      "metadata": {
        "id": "F4w5oGPU1JsY"
      }
    },
    {
      "cell_type": "markdown",
      "source": [
        "**2.What is exception handling in Python?**\n",
        "\n",
        "->Exception handling in Python is a mechanism for managing errors that occur during program execution. It allows you to handle runtime errors gracefully using try, except, else, and finally blocks, preventing the program from crashing."
      ],
      "metadata": {
        "id": "FtYrFtl816vR"
      }
    },
    {
      "cell_type": "markdown",
      "source": [
        "**3.What is the purpose of the finally block in exception handling?**\n",
        "\n",
        "-> he purpose of the finally block in exception handling is to ensure that certain code runs regardless of whether an exception occurs or not, typically for cleanup actions like closing files or releasing resources."
      ],
      "metadata": {
        "id": "IPON-zLd2IGY"
      }
    },
    {
      "cell_type": "markdown",
      "source": [
        "**4.What is logging in Python?**\n",
        "\n",
        "-> Logging in Python is a way to track events that happen during program execution. It helps in debugging, monitoring, and recording information using the logging module, which provides various log levels (e.g., DEBUG, INFO, WARNING, ERROR, CRITICAL)."
      ],
      "metadata": {
        "id": "d7uXnMsx2Yh3"
      }
    },
    {
      "cell_type": "markdown",
      "source": [
        "**5.What is the significance of the __del__ method in Python**?\n",
        "\n",
        "-> The __del__ method in Python is a special method called a destructor. It is invoked when an object is about to be destroyed, allowing you to define cleanup actions, such as releasing resources. However, relying on __del__ is discouraged, as Python’s garbage collector handles most cleanup automatically."
      ],
      "metadata": {
        "id": "GAyapNIg2pSI"
      }
    },
    {
      "cell_type": "markdown",
      "source": [
        "**6.What is the difference between import and from ... import in Python?**\n",
        "\n",
        "-> The difference between import and from ... import in Python is:\n",
        "\n",
        "  **impor**t imports the entire module, requiring you to use the module name to access its functions or variables (e.g., module.function()).\n",
        "\n",
        "  **from ... import** imports specific functions or variables directly, allowing you to use them without the module prefix (e.g., function() directly)."
      ],
      "metadata": {
        "id": "a5Je8IC922m_"
      }
    },
    {
      "cell_type": "markdown",
      "source": [
        "**7.How can you handle multiple exceptions in Python?**\n",
        "\n",
        "-> You can handle multiple exceptions in Python using:\n",
        "\n",
        "1.Multiple except blocks:\n",
        "\n",
        "\n",
        "    try:\n",
        "        # code\n",
        "    except ValueError:\n",
        "        # handle ValueError\n",
        "    except TypeError:\n",
        "        # handle TypeError\n",
        "\n",
        "2.A single except block with a tuple of exceptions:\n",
        "\n",
        "    try:\n",
        "        # code\n",
        "    except (ValueError, TypeError) as e:\n",
        "        # handle both exceptions\n"
      ],
      "metadata": {
        "id": "LEoazA3v3MFX"
      }
    },
    {
      "cell_type": "markdown",
      "source": [
        "**8.What is the purpose of the with statement when handling files in Python?**\n",
        "\n",
        "-> The with statement in Python ensures that a file is properly opened and closed automatically, even if an exception occurs. It simplifies file handling by managing resource cleanup, eliminating the need to explicitly call close()."
      ],
      "metadata": {
        "id": "q4OwWFCs4Fc4"
      }
    },
    {
      "cell_type": "markdown",
      "source": [
        "**9.What is the difference between multithreading and multiprocessing?**\n",
        "\n",
        "-> The difference between multithreading and multiprocessing is:\n",
        "\n",
        "   **Multithreading** uses multiple threads within the same process, sharing memory, and is ideal for I/O-bound tasks.\n",
        "\n",
        "   **Multiprocessing** uses multiple processes, each with its own memory space, and is better for CPU-bound tasks to leverage multiple CPU cores."
      ],
      "metadata": {
        "id": "E2vj-2Rf4QKf"
      }
    },
    {
      "cell_type": "markdown",
      "source": [
        "**10.What are the advantages of using logging in a program?**\n",
        "\n",
        "-> The advantages of using logging in a program are:\n",
        "\n",
        "  **Debugging:** Helps track and identify errors or unexpected behavior.\n",
        "\n",
        "  **Monitoring:** Provides insights into program execution and performance.\n",
        "\n",
        "  **Persistent records:** Logs events over time for future reference.\n",
        "\n",
        "  **Control:** Allows adjusting log levels (e.g., DEBUG, INFO) to control the amount of output.\n",
        "\n",
        "  **Non-intrusive:** Logs can be written without affecting program flow."
      ],
      "metadata": {
        "id": "DnAnHpau4j5I"
      }
    },
    {
      "cell_type": "markdown",
      "source": [
        "**11.What is memory management in Python?**\n",
        "\n",
        "-> Memory management in Python refers to the process of efficiently allocating, tracking, and deallocating memory for objects during program execution. It includes automatic garbage collection, which reclaims memory by removing objects that are no longer in use, and dynamic typing, which helps manage memory usage based on object types."
      ],
      "metadata": {
        "id": "IYzS8z8g5DqI"
      }
    },
    {
      "cell_type": "markdown",
      "source": [
        "**12.What are the basic steps involved in exception handling in Python?**\n",
        "\n",
        "-> The basic steps involved in exception handling in Python are:\n",
        "\n",
        "  **Try:** Write the code that may raise an exception inside a try block.\n",
        "\n",
        "   **Except:** Handle the exception using an except block if an error occurs.\n",
        "\n",
        "  **Else:** Optionally, use an else block to execute code if no exception occurs.\n",
        "\n",
        "   **Finally:** Optionally, use a finally block to execute code that runs regardless of whether an exception occurred, typically for cleanup."
      ],
      "metadata": {
        "id": "5IBlHE4D5R8Y"
      }
    },
    {
      "cell_type": "markdown",
      "source": [
        "**13.Why is memory management important in Python?**\n",
        "\n",
        "-> Memory management is important in Python because it ensures efficient use of system resources, prevents memory leaks, and optimizes performance by automatically handling object allocation and deallocation through techniques like garbage collection."
      ],
      "metadata": {
        "id": "6B3MqeM85qn2"
      }
    },
    {
      "cell_type": "markdown",
      "source": [
        "**14.What is the role of try and except in exception handling?**\n",
        "\n",
        "-> In exception handling, the try block contains the code that may raise an exception, while the except block handles the exception if it occurs, allowing the program to continue executing without crashing."
      ],
      "metadata": {
        "id": "N_fASrxg53XM"
      }
    },
    {
      "cell_type": "markdown",
      "source": [
        "**15.How does Python's garbage collection system work?**\n",
        "\n",
        "-> Python's garbage collection system automatically manages memory by tracking and reclaiming unused objects. It primarily uses **reference counting** to detect when an object is no longer referenced, and periodically runs a **cycle detector** to clean up circular references, ensuring efficient memory usage and preventing memory leaks."
      ],
      "metadata": {
        "id": "gN3inNqR6E99"
      }
    },
    {
      "cell_type": "markdown",
      "source": [
        "**16.What is the purpose of the else block in exception handling?**\n",
        "\n",
        "-> The purpose of the *else* block in exception handling is to execute code only if no exceptions are raised in the *try*   block, allowing for actions that should occur when the code runs successfully."
      ],
      "metadata": {
        "id": "p06oX_bW6Xhl"
      }
    },
    {
      "cell_type": "markdown",
      "source": [
        "**17.What are the common logging levels in Python?**\n",
        "\n",
        "-> The common logging levels in Python are:\n",
        "\n",
        "  **DEBUG:** Detailed information, typically for diagnosing problems.\n",
        "\n",
        "   **INFO:** General information about the program's execution.\n",
        "\n",
        "  **WARNING:** Indications of potential issues or unexpected behavior.\n",
        "\n",
        "   **ERROR:** Errors that affect program functionality but don't stop execution.\n",
        "\n",
        "   **CRITICAL:** Severe errors that may cause the program to crash."
      ],
      "metadata": {
        "id": "T-0IaOhl6s0k"
      }
    },
    {
      "cell_type": "markdown",
      "source": [
        "**18.What is the difference between os.fork() and multiprocessing in Python?**\n",
        "\n",
        "-> The difference between os.fork() and **multiprocessing** in Python is:\n",
        "\n",
        "  **os.fork()** creates a new child process by duplicating the parent process. It is platform-dependent (works on Unix-like systems) and shares memory between parent and child.\n",
        "\n",
        "   **Multiprocessing** is a higher-level module that creates separate processes, each with its own memory space, and is cross-platform, making it suitable for parallel processing in CPU-bound tasks."
      ],
      "metadata": {
        "id": "XcZv2nq87GkH"
      }
    },
    {
      "cell_type": "markdown",
      "source": [
        "**19.What is the importance of closing a file in Python?**\n",
        "\n",
        "-> Closing a file in Python is important to ensure that all data is written to the file, release system resources, and prevent memory leaks or file corruption. It can be done using the close() method or automatically using the with statement."
      ],
      "metadata": {
        "id": "4jRvyr_j7and"
      }
    },
    {
      "cell_type": "markdown",
      "source": [
        "**20.What is the difference between file.read() and file.readline() in Python?**\n",
        "\n",
        "-> The difference between **file.read()** and **file.readline()** in Python is:\n",
        "\n",
        "  **file.read()** reads the entire content of the file as a single string.\n",
        "\n",
        "  **file.readline(**) reads one line at a time from the file, including the newline character at the end of the line."
      ],
      "metadata": {
        "id": "B6VQnSi97tH9"
      }
    },
    {
      "cell_type": "markdown",
      "source": [
        "**21.What is the logging module in Python used for?**\n",
        "\n",
        "-> The **logging module** in Python is used for tracking events and recording log messages during program execution. It provides a way to output messages at different severity levels (e.g., DEBUG, INFO, WARNING, ERROR, CRITICAL) and supports logging to various destinations, such as the console, files, or remote servers.\n"
      ],
      "metadata": {
        "id": "DjFyp13Y8Nlk"
      }
    },
    {
      "cell_type": "markdown",
      "source": [
        "**22.What is the os module in Python used for in file handling?**\n",
        "\n",
        "-> The **os module** in Python is used for interacting with the operating system, and in file handling, it provides functions for creating, deleting, renaming, and manipulating files and directories, such as **os.rename()**, **os.remove()**, and **os.mkdir()**. It also allows checking file existence with **os.path.exists()** and retrieving file information.\n"
      ],
      "metadata": {
        "id": "no9gq6SE8eXb"
      }
    },
    {
      "cell_type": "markdown",
      "source": [
        "**23.What are the challenges associated with memory management in Python?**\n",
        "\n",
        "-> The challenges associated with memory management in Python include:\n",
        "\n",
        "  **Garbage Collection Overhead:** The automatic garbage collection can introduce performance overhead, especially with circular references.\n",
        "\n",
        "  **Memory Leaks:** Objects can remain in memory if references are not properly managed, leading to memory leaks.\n",
        "\n",
        "  **Large Memory Usage:** Python's dynamic typing and object overhead can cause higher memory usage compared to other languages.\n",
        "\n",
        "   **Global Interpreter Lock (GIL):** In multi-threaded programs, the GIL can affect memory usage efficiency and performance in CPU-bound tasks."
      ],
      "metadata": {
        "id": "7bOGatYY82lT"
      }
    },
    {
      "cell_type": "markdown",
      "source": [
        "**24.How do you raise an exception manually in Python?**\n",
        "\n",
        "-> You can raise an exception manually in Python using the ***raise*** keyword followed by the exception type (and optionally, a message):\n",
        "\n",
        "    raise Exception(\"An error occurred\")\n",
        "\n",
        "This will trigger the specified exception in the program."
      ],
      "metadata": {
        "id": "XsTdpWyq9LMa"
      }
    },
    {
      "cell_type": "markdown",
      "source": [
        "**25.Why is it important to use multithreading in certain applications?**\n",
        "\n",
        "-> Multithreading is important in certain applications because it allows concurrent execution of tasks, improving performance for I/O-bound tasks (like reading files or network operations) and enabling better resource utilization by making use of idle CPU time while waiting for I/O operations."
      ],
      "metadata": {
        "id": "7aW8tWNo9lHw"
      }
    },
    {
      "cell_type": "code",
      "source": [],
      "metadata": {
        "id": "90WE7XI69KWj"
      },
      "execution_count": null,
      "outputs": []
    },
    {
      "cell_type": "markdown",
      "source": [
        "#Practical questions"
      ],
      "metadata": {
        "id": "QfMk_rWq9udQ"
      }
    },
    {
      "cell_type": "markdown",
      "source": [
        "**1.How can you open a file for writing in Python and write a string to it?**\n",
        "\n",
        "->we can open a file for writing in Python using the open() function with the mode 'w' (write mode), and then use the write() method to write a string to it:\n"
      ],
      "metadata": {
        "id": "pQ6GLo8L91vR"
      }
    },
    {
      "cell_type": "code",
      "source": [
        "with open('file.txt', 'w') as file:\n",
        "    file.write(\"Hello, world!\")\n",
        "#This will create the file file.txt (or overwrite it if it already exists) and write the string \"Hello, world!\" to it."
      ],
      "metadata": {
        "id": "_1rrr5UN91Nu"
      },
      "execution_count": 1,
      "outputs": []
    },
    {
      "cell_type": "markdown",
      "source": [
        "**2.Write a Python program to read the contents of a file and print each line?**\n",
        "\n"
      ],
      "metadata": {
        "id": "4JG6lcYb-aMR"
      }
    },
    {
      "cell_type": "code",
      "source": [
        "#Here’s a simple Python program to read the contents of a file and print each line:\n",
        "# Open the file in read mode\n",
        "with open('file.txt', 'r') as file:\n",
        "    # Read and print each line\n",
        "    for line in file:\n",
        "        print(line.strip())  # .strip() removes the newline character\n",
        " #This program opens file.txt, reads each line, and prints it without the trailing newline character. Make sure to replace 'file.txt' with the actual file path.\n",
        "\n",
        "\n"
      ],
      "metadata": {
        "colab": {
          "base_uri": "https://localhost:8080/"
        },
        "id": "nyENiFUJ-qbE",
        "outputId": "b39483c6-4071-4d3e-b6cc-4e29375957de"
      },
      "execution_count": 7,
      "outputs": [
        {
          "output_type": "stream",
          "name": "stdout",
          "text": [
            "Hello, world!\n"
          ]
        }
      ]
    },
    {
      "cell_type": "markdown",
      "source": [
        "**3.How would you handle a case where the file doesn't exist while trying to open it for reading?**\n",
        "\n",
        "-> To handle the case where the file doesn't exist while trying to open it for reading, you can use a try-except block to catch the FileNotFoundError:\n"
      ],
      "metadata": {
        "id": "ey3FmEAw_t81"
      }
    },
    {
      "cell_type": "code",
      "source": [
        "try:\n",
        "    with open('file.txt', 'r') as file:\n",
        "        for line in file:\n",
        "            print(line.strip())\n",
        "except FileNotFoundError:\n",
        "    print(\"The file does not exist.\")\n",
        "#This program will print a message if the file doesn't exist, instead of crashing the program."
      ],
      "metadata": {
        "colab": {
          "base_uri": "https://localhost:8080/"
        },
        "id": "dMZeJEnS-uV7",
        "outputId": "dda842fd-ec09-42e6-aead-fd3ccc46ca44"
      },
      "execution_count": 9,
      "outputs": [
        {
          "output_type": "stream",
          "name": "stdout",
          "text": [
            "Hello, world!\n"
          ]
        }
      ]
    },
    {
      "cell_type": "markdown",
      "source": [
        "**4. Write a Python script that reads from one file and writes its content to another file?**\n",
        "\n",
        "->Here’s a Python script that reads from one file and writes its content to another file:\n",
        "Open the source file in read mode and the destination file in write mode\n",
        "\n",
        "    with open('source.txt', 'r') as source_file:\n",
        "        with open('destination.txt', 'w') as dest_file:\n",
        "            # Read and write the content line by line\n",
        "            for line in source_file:\n",
        "                dest_file.write(line)\n",
        "\n",
        " This script opens source.txt for reading and destination.txt for writing. It reads the content of source.txt line by line and writes each line to destination.txt. Make sure to replace 'source.txt' and 'destination.txt' with the actual file paths."
      ],
      "metadata": {
        "id": "cbTjJBzBAjmJ"
      }
    },
    {
      "cell_type": "markdown",
      "source": [
        "**5.How would you catch and handle division by zero error in Python?**\n",
        "\n",
        "-> we can catch and handle a division by zero error in Python using a try-except block:"
      ],
      "metadata": {
        "id": "P0RyE6L0CIbv"
      }
    },
    {
      "cell_type": "code",
      "source": [
        "try:\n",
        "    result = 10 / 0  # This will raise a ZeroDivisionError\n",
        "except ZeroDivisionError:\n",
        "    print(\"Error: Division by zero is not allowed.\")\n"
      ],
      "metadata": {
        "colab": {
          "base_uri": "https://localhost:8080/"
        },
        "id": "cZBpbbA7Bv9E",
        "outputId": "7875127f-cb7b-409d-8c6d-610515296630"
      },
      "execution_count": 13,
      "outputs": [
        {
          "output_type": "stream",
          "name": "stdout",
          "text": [
            "Error: Division by zero is not allowed.\n"
          ]
        }
      ]
    },
    {
      "cell_type": "markdown",
      "source": [
        "**6.Write a Python program that logs an error message to a log file when a division by zero exception occurs?**\n",
        "\n",
        "-> Here’s a Python program that logs an error message to a log file when a division by zero exception occurs:"
      ],
      "metadata": {
        "id": "dfW0nfUJCfHC"
      }
    },
    {
      "cell_type": "code",
      "source": [
        "import logging\n",
        "\n",
        "# Set up logging configuration\n",
        "logging.basicConfig(filename='error.log', level=logging.ERROR,\n",
        "                    format='%(asctime)s - %(levelname)s - %(message)s')\n",
        "\n",
        "try:\n",
        "    result = 10 / 0  # This will raise a ZeroDivisionError\n",
        "except ZeroDivisionError as e:\n",
        "    logging.error(\"Division by zero error: %s\", e)\n"
      ],
      "metadata": {
        "colab": {
          "base_uri": "https://localhost:8080/"
        },
        "id": "yEwrD4tlCW5L",
        "outputId": "fa798657-ff92-4855-c21f-a56bc35590d0"
      },
      "execution_count": 14,
      "outputs": [
        {
          "output_type": "stream",
          "name": "stderr",
          "text": [
            "ERROR:root:Division by zero error: division by zero\n"
          ]
        }
      ]
    },
    {
      "cell_type": "markdown",
      "source": [
        "**7.How do you log information at different levels (INFO, ERROR, WARNING) in Python using the logging module?**\n",
        "\n",
        "-> we can log information at different levels (INFO, ERROR, WARNING) in Python using the logging module as follows:"
      ],
      "metadata": {
        "id": "_JgFktr4CrkV"
      }
    },
    {
      "cell_type": "code",
      "source": [
        "import logging\n",
        "\n",
        "# Set up logging configuration\n",
        "logging.basicConfig(level=logging.DEBUG,  # Log all levels from DEBUG and above\n",
        "                    format='%(asctime)s - %(levelname)s - %(message)s')\n",
        "\n",
        "# Logging at different levels\n",
        "logging.debug(\"This is a debug message\")\n",
        "logging.info(\"This is an info message\")\n",
        "logging.warning(\"This is a warning message\")\n",
        "logging.error(\"This is an error message\")\n",
        "logging.critical(\"This is a critical message\")\n"
      ],
      "metadata": {
        "colab": {
          "base_uri": "https://localhost:8080/"
        },
        "id": "qaOKqgn2Cp1X",
        "outputId": "84d15122-2843-45ec-e6a2-901ea1692af7"
      },
      "execution_count": 15,
      "outputs": [
        {
          "output_type": "stream",
          "name": "stderr",
          "text": [
            "WARNING:root:This is a warning message\n",
            "ERROR:root:This is an error message\n",
            "CRITICAL:root:This is a critical message\n"
          ]
        }
      ]
    },
    {
      "cell_type": "markdown",
      "source": [
        "**8.Write a program to handle a file opening error using exception handling?**\n",
        "\n",
        "-> Here's a Python program that handles a file opening error using exception handling:"
      ],
      "metadata": {
        "id": "57o4U27mC_kW"
      }
    },
    {
      "cell_type": "code",
      "source": [
        "try:\n",
        "    # Try to open a file that may not exist\n",
        "    with open('non_existent_file.txt', 'r') as file:\n",
        "        content = file.read()\n",
        "except FileNotFoundError:\n",
        "    print(\"Error: The file does not exist.\")\n",
        "except IOError:\n",
        "    print(\"Error: An I/O error occurred while opening the file.\")\n"
      ],
      "metadata": {
        "colab": {
          "base_uri": "https://localhost:8080/"
        },
        "id": "e-sE6tc1C7by",
        "outputId": "9fc72d77-3099-47c7-eea1-71596919811a"
      },
      "execution_count": 16,
      "outputs": [
        {
          "output_type": "stream",
          "name": "stdout",
          "text": [
            "Error: The file does not exist.\n"
          ]
        }
      ]
    },
    {
      "cell_type": "markdown",
      "source": [
        "**9.how can you read a file line by line and store its content in a list in Python?**\n",
        "\n",
        "->we can read a file line by line and store its content in a list in Python like this:"
      ],
      "metadata": {
        "id": "HkrdHCBHDcwt"
      }
    },
    {
      "cell_type": "code",
      "source": [
        "lines = []\n",
        "with open('file.txt', 'r') as file:\n",
        "    for line in file:\n",
        "        lines.append(line.strip())  # Add each line to the list, removing trailing newline characters\n",
        "\n",
        "print(lines)\n"
      ],
      "metadata": {
        "colab": {
          "base_uri": "https://localhost:8080/"
        },
        "id": "-2fTr5MGDbqA",
        "outputId": "d44f58db-679f-45e4-a22c-d62e689b84a2"
      },
      "execution_count": 17,
      "outputs": [
        {
          "output_type": "stream",
          "name": "stdout",
          "text": [
            "['Hello, world!']\n"
          ]
        }
      ]
    },
    {
      "cell_type": "markdown",
      "source": [
        "**10. How can you append data to an existing file in Python?**\n",
        "\n",
        "-> we can append data to an existing file in Python using the open() function with the 'a' (append) mode. Here's an example:"
      ],
      "metadata": {
        "id": "iu1y5zRQDvh-"
      }
    },
    {
      "cell_type": "code",
      "source": [
        "with open('file.txt', 'a') as file:\n",
        "    file.write(\"This is the appended data.\\n\")\n",
        "\n"
      ],
      "metadata": {
        "id": "ST-jmWEFDuRu"
      },
      "execution_count": 18,
      "outputs": []
    },
    {
      "cell_type": "markdown",
      "source": [
        "**11.Write a Python program that uses a try-except block to handle an error when attempting to access a\n",
        "dictionary key that doesn't exist?**\n",
        "\n",
        "-> Here's a Python program that uses a try-except block to handle an error when attempting to access a dictionary key that doesn't exist:"
      ],
      "metadata": {
        "id": "GhDpxX-gE8H4"
      }
    },
    {
      "cell_type": "code",
      "source": [
        "my_dict = {'name': 'John', 'age': 30}\n",
        "\n",
        "try:\n",
        "    # Attempting to access a key that doesn't exist\n",
        "    value = my_dict['address']\n",
        "except KeyError:\n",
        "    print(\"Error: The key does not exist in the dictionary.\")\n"
      ],
      "metadata": {
        "colab": {
          "base_uri": "https://localhost:8080/"
        },
        "id": "S4boSYDaE65G",
        "outputId": "19e6283e-f446-4018-e30b-6924429a1771"
      },
      "execution_count": 19,
      "outputs": [
        {
          "output_type": "stream",
          "name": "stdout",
          "text": [
            "Error: The key does not exist in the dictionary.\n"
          ]
        }
      ]
    },
    {
      "cell_type": "markdown",
      "source": [
        "**12.Write a program that demonstrates using multiple except blocks to handle different types of exceptions?**\n",
        "\n",
        "-> Here’s a Python program that demonstrates using multiple except blocks to handle different types of exceptions:"
      ],
      "metadata": {
        "id": "Lgn9n7fGFq39"
      }
    },
    {
      "cell_type": "code",
      "source": [
        "try:\n",
        "    # Sample code that may raise different exceptions\n",
        "    num1 = int(input(\"Enter a number: \"))\n",
        "    num2 = int(input(\"Enter another number: \"))\n",
        "    result = num1 / num2\n",
        "    print(\"The result is:\", result)\n",
        "\n",
        "except ValueError:\n",
        "    print(\"Error: Invalid input! Please enter a valid integer.\")\n",
        "except ZeroDivisionError:\n",
        "    print(\"Error: Division by zero is not allowed.\")\n",
        "except Exception as e:\n",
        "    print(f\"An unexpected error occurred: {e}\")\n"
      ],
      "metadata": {
        "colab": {
          "base_uri": "https://localhost:8080/"
        },
        "id": "stpOD8elFp2k",
        "outputId": "f366ac21-f6c6-4138-c8fc-1eb0d93bba67"
      },
      "execution_count": 21,
      "outputs": [
        {
          "output_type": "stream",
          "name": "stdout",
          "text": [
            "Enter a number: 7\n",
            "Enter another number: 6\n",
            "The result is: 1.1666666666666667\n"
          ]
        }
      ]
    },
    {
      "cell_type": "markdown",
      "source": [
        "**13.How would you check if a file exists before attempting to read it in Python?**\n",
        "\n",
        "-> We can check if a file exists before attempting to read it in Python using the os.path.exists() function or pathlib.Path.exists(). Here's how you can do it with both approaches:\n",
        "\n",
        "**Using os.path.exists():**"
      ],
      "metadata": {
        "id": "eyf15njRGHp6"
      }
    },
    {
      "cell_type": "code",
      "source": [
        "import os\n",
        "\n",
        "file_path = 'file.txt'\n",
        "\n",
        "if os.path.exists(file_path):\n",
        "    with open(file_path, 'r') as file:\n",
        "        content = file.read()\n",
        "        print(content)\n",
        "else:\n",
        "    print(\"The file does not exist.\")\n"
      ],
      "metadata": {
        "colab": {
          "base_uri": "https://localhost:8080/"
        },
        "id": "OmSy5Ri4F7I-",
        "outputId": "1fb07915-1604-4ac0-a2a4-cbc8abb57aff"
      },
      "execution_count": 22,
      "outputs": [
        {
          "output_type": "stream",
          "name": "stdout",
          "text": [
            "Hello, world!This is the appended data.\n",
            "\n"
          ]
        }
      ]
    },
    {
      "cell_type": "markdown",
      "source": [
        "**Using pathlib.Path.exists():**"
      ],
      "metadata": {
        "id": "uz5YHVr9GgJy"
      }
    },
    {
      "cell_type": "code",
      "source": [
        "from pathlib import Path\n",
        "\n",
        "file_path = Path('file.txt')\n",
        "\n",
        "if file_path.exists():\n",
        "    with open(file_path, 'r') as file:\n",
        "        content = file.read()\n",
        "        print(content)\n",
        "else:\n",
        "    print(\"The file does not exist.\")\n"
      ],
      "metadata": {
        "colab": {
          "base_uri": "https://localhost:8080/"
        },
        "id": "PQLtuJxtGeAt",
        "outputId": "adbac8ef-b0df-40dc-e524-629aba2d51b4"
      },
      "execution_count": 23,
      "outputs": [
        {
          "output_type": "stream",
          "name": "stdout",
          "text": [
            "Hello, world!This is the appended data.\n",
            "\n"
          ]
        }
      ]
    },
    {
      "cell_type": "markdown",
      "source": [
        "**14.Write a program that uses the logging module to log both informational and error messages?**\n",
        "\n",
        "-> Here’s a Python program that uses the logging module to log both informational and error messages:"
      ],
      "metadata": {
        "id": "RwvtC1rZGqqU"
      }
    },
    {
      "cell_type": "code",
      "source": [
        "import logging\n",
        "\n",
        "# Set up logging configuration\n",
        "logging.basicConfig(filename='app.log', level=logging.DEBUG,\n",
        "                    format='%(asctime)s - %(levelname)s - %(message)s')\n",
        "\n",
        "# Log an informational message\n",
        "logging.info(\"This is an informational message.\")\n",
        "\n",
        "try:\n",
        "    # Simulate a division by zero error\n",
        "    result = 10 / 0\n",
        "except ZeroDivisionError as e:\n",
        "    # Log an error message\n",
        "    logging.error(\"Error occurred: %s\", e)\n",
        "\n"
      ],
      "metadata": {
        "colab": {
          "base_uri": "https://localhost:8080/"
        },
        "id": "OKmzkwFGGi71",
        "outputId": "e6b40456-04e6-4064-c6a4-0416838331c3"
      },
      "execution_count": 24,
      "outputs": [
        {
          "output_type": "stream",
          "name": "stderr",
          "text": [
            "ERROR:root:Error occurred: division by zero\n"
          ]
        }
      ]
    },
    {
      "cell_type": "markdown",
      "source": [
        "**15.Write a Python program that prints the content of a file and handles the case when the file is empty?**\n",
        "\n",
        "-> Here's a Python program that prints the content of a file and handles the case when the file is empty:"
      ],
      "metadata": {
        "id": "JmcnxErbG8Mk"
      }
    },
    {
      "cell_type": "code",
      "source": [
        "try:\n",
        "    with open('file.txt', 'r') as file:\n",
        "        content = file.read().strip()  # Read and remove any extra whitespace/newlines\n",
        "        if content:\n",
        "            print(content)\n",
        "        else:\n",
        "            print(\"The file is empty.\")\n",
        "except FileNotFoundError:\n",
        "    print(\"Error: The file does not exist.\")\n"
      ],
      "metadata": {
        "colab": {
          "base_uri": "https://localhost:8080/"
        },
        "id": "w9i8uHibG7JL",
        "outputId": "34a2ae72-ec36-4cf6-8613-0f409e054cda"
      },
      "execution_count": 25,
      "outputs": [
        {
          "output_type": "stream",
          "name": "stdout",
          "text": [
            "Hello, world!This is the appended data.\n"
          ]
        }
      ]
    },
    {
      "cell_type": "markdown",
      "source": [
        "**16.Demonstrate how to use memory profiling to check the memory usage of a small program?**\n",
        "\n",
        "-> To use memory profiling in Python, you can use the memory_profiler module. Here’s a quick demonstration:\n",
        "1.Install memory_profiler:\n",
        "\n",
        "    pip install memory-profiler\n",
        "\n",
        "\n",
        "2. Write a small program and decorate the function to be profiled:  \n"
      ],
      "metadata": {
        "id": "7LtPCWkDHL3r"
      }
    },
    {
      "cell_type": "code",
      "source": [
        "from memory_profiler import profile\n",
        "\n",
        "@profile\n",
        "def my_function():\n",
        "    a = [1] * (10**6)  # List of 1 million integers\n",
        "    b = [2] * (2 * 10**7)  # Larger list\n",
        "    del a  # Delete first list to free memory\n",
        "    return b\n",
        "\n",
        "if __name__ == \"__main__\":\n",
        "    my_function()\n"
      ],
      "metadata": {
        "colab": {
          "base_uri": "https://localhost:8080/"
        },
        "id": "LoCGsK3rIeCD",
        "outputId": "e5637786-3828-4e00-8ab7-967033d9105b"
      },
      "execution_count": 40,
      "outputs": [
        {
          "output_type": "stream",
          "name": "stdout",
          "text": [
            "ERROR: Could not find file <ipython-input-40-72fad2413d8c>\n",
            "NOTE: %mprun can only be used on functions defined in physical files, and not in the IPython environment.\n"
          ]
        }
      ]
    },
    {
      "cell_type": "markdown",
      "source": [
        "3.Run the program with memory profiling:\n",
        "\n",
        "    python -m memory_profiler your_script.py\n"
      ],
      "metadata": {
        "id": "g8dT6oLNJJ30"
      }
    },
    {
      "cell_type": "markdown",
      "source": [
        "**17.Write a Python program to create and write a list of numbers to a file, one number per line?**\n",
        "\n",
        "-> Here is a Python program that creates and writes a list of numbers to a file, one number per line:"
      ],
      "metadata": {
        "id": "MPn7DGnpJRtJ"
      }
    },
    {
      "cell_type": "code",
      "source": [
        "numbers = [1, 2, 3, 4, 5, 6, 7, 8, 9, 10]\n",
        "\n",
        "# Open the file in write mode\n",
        "with open('numbers.txt', 'w') as file:\n",
        "    # Write each number on a new line\n",
        "    for number in numbers:\n",
        "        file.write(f\"{number}\\n\")\n",
        "\n",
        "print(\"Numbers have been written to 'numbers.txt'.\")\n"
      ],
      "metadata": {
        "colab": {
          "base_uri": "https://localhost:8080/"
        },
        "id": "JrrisldXJIbj",
        "outputId": "d6ef8b6a-3aa9-4e3a-acb3-371bbb1f88db"
      },
      "execution_count": 41,
      "outputs": [
        {
          "output_type": "stream",
          "name": "stdout",
          "text": [
            "Numbers have been written to 'numbers.txt'.\n"
          ]
        }
      ]
    },
    {
      "cell_type": "markdown",
      "source": [
        "**18.How would you implement a basic logging setup that logs to a file with rotation after 1MB?**\n",
        "\n",
        "-> To implement basic logging with file rotation after 1MB in Python, you can use the logging module along with logging.handlers.RotatingFileHandler. Here's how you can do it:"
      ],
      "metadata": {
        "id": "ADGUPYMTJhNq"
      }
    },
    {
      "cell_type": "code",
      "source": [
        "import logging\n",
        "from logging.handlers import RotatingFileHandler\n",
        "\n",
        "# Set up logging with rotation after 1MB\n",
        "logger = logging.getLogger('my_logger')\n",
        "logger.setLevel(logging.DEBUG)\n",
        "\n",
        "# Create a rotating file handler that logs to 'app.log' and rotates after 1MB\n",
        "handler = RotatingFileHandler('app.log', maxBytes=1e6, backupCount=3)  # maxBytes=1MB, backupCount=3 (keeps 3 old files)\n",
        "handler.setLevel(logging.DEBUG)\n",
        "\n",
        "# Create a log format\n",
        "formatter = logging.Formatter('%(asctime)s - %(levelname)s - %(message)s')\n",
        "handler.setFormatter(formatter)\n",
        "\n",
        "# Add the handler to the logger\n",
        "logger.addHandler(handler)\n",
        "\n",
        "# Test the logging setup\n",
        "logger.debug(\"This is a debug message.\")\n",
        "logger.info(\"This is an informational message.\")\n",
        "logger.warning(\"This is a warning message.\")\n",
        "logger.error(\"This is an error message.\")\n",
        "logger.critical(\"This is a critical message.\")\n",
        "\n"
      ],
      "metadata": {
        "colab": {
          "base_uri": "https://localhost:8080/"
        },
        "id": "U8_CegJKJgT6",
        "outputId": "c91eb562-ba5d-4a44-98dc-0a212b45a6cb"
      },
      "execution_count": 42,
      "outputs": [
        {
          "output_type": "stream",
          "name": "stderr",
          "text": [
            "DEBUG:my_logger:This is a debug message.\n",
            "INFO:my_logger:This is an informational message.\n",
            "WARNING:my_logger:This is a warning message.\n",
            "ERROR:my_logger:This is an error message.\n",
            "CRITICAL:my_logger:This is a critical message.\n"
          ]
        }
      ]
    },
    {
      "cell_type": "markdown",
      "source": [
        "**19.Write a program that handles both IndexError and KeyError using a try-except block?**\n",
        "\n",
        "-> Here’s a Python program that handles both IndexError and KeyError using a try-except block:"
      ],
      "metadata": {
        "id": "LQs8b5fIJzdZ"
      }
    },
    {
      "cell_type": "code",
      "source": [
        "my_list = [1, 2, 3]\n",
        "my_dict = {'a': 1, 'b': 2}\n",
        "\n",
        "try:\n",
        "    # Trying to access an index that doesn't exist in the list\n",
        "    print(my_list[5])\n",
        "\n",
        "    # Trying to access a key that doesn't exist in the dictionary\n",
        "    print(my_dict['c'])\n",
        "\n",
        "except IndexError:\n",
        "    print(\"Error: Index out of range in the list.\")\n",
        "except KeyError:\n",
        "    print(\"Error: Key not found in the dictionary.\")\n"
      ],
      "metadata": {
        "colab": {
          "base_uri": "https://localhost:8080/"
        },
        "id": "WU1AIGCfJyFM",
        "outputId": "49fc9cc3-33d8-4347-a290-00acfb2ebeeb"
      },
      "execution_count": 43,
      "outputs": [
        {
          "output_type": "stream",
          "name": "stdout",
          "text": [
            "Error: Index out of range in the list.\n"
          ]
        }
      ]
    },
    {
      "cell_type": "markdown",
      "source": [
        "**20.How would you open a file and read its contents using a context manager in Python?**\n",
        "\n",
        "-> We can open a file and read its contents using a context manager in Python with the with statement. Here's an example:"
      ],
      "metadata": {
        "id": "17FUTBhOKAzS"
      }
    },
    {
      "cell_type": "code",
      "source": [
        "# Using a context manager to open and read a file\n",
        "with open('file.txt', 'r') as file:\n",
        "    content = file.read()  # Read the entire content of the file\n",
        "    print(content)  # Print the content of the file\n"
      ],
      "metadata": {
        "colab": {
          "base_uri": "https://localhost:8080/"
        },
        "id": "m1jbNa6NJ_-r",
        "outputId": "e4fb6f36-b2d5-45bc-8584-c8b7dff49bd5"
      },
      "execution_count": 44,
      "outputs": [
        {
          "output_type": "stream",
          "name": "stdout",
          "text": [
            "Hello, world!This is the appended data.\n",
            "\n"
          ]
        }
      ]
    },
    {
      "cell_type": "markdown",
      "source": [
        "**21.Write a Python program that reads a file and prints the number of occurrences of a specific word?**\n",
        "\n",
        "-> Here’s a Python program that reads a file and prints the number of occurrences of a specific word:"
      ],
      "metadata": {
        "id": "Zjid8TLyKUlc"
      }
    },
    {
      "cell_type": "code",
      "source": [
        "def count_word_occurrences(file_name, target_word):\n",
        "    try:\n",
        "        with open(file_name, 'r') as file:\n",
        "            content = file.read()  # Read the entire content of the file\n",
        "            word_count = content.lower().split().count(target_word.lower())  # Count occurrences of target word\n",
        "            return word_count\n",
        "    except FileNotFoundError:\n",
        "        print(f\"The file '{file_name}' does not exist.\")\n",
        "        return 0\n",
        "\n",
        "# Example usage\n",
        "file_name = 'file.txt'  # Specify the file name\n",
        "target_word = 'python'  # Specify the word to search for\n",
        "occurrences = count_word_occurrences(file_name, target_word)\n",
        "\n",
        "if occurrences > 0:\n",
        "    print(f\"The word '{target_word}' occurred {occurrences} times in the file.\")\n",
        "else:\n",
        "    print(f\"The word '{target_word}' was not found in the file.\")\n"
      ],
      "metadata": {
        "colab": {
          "base_uri": "https://localhost:8080/"
        },
        "id": "VsW9YhvzKTjj",
        "outputId": "cc08b953-b3a3-4ab2-ad47-a88734f5e4d8"
      },
      "execution_count": 45,
      "outputs": [
        {
          "output_type": "stream",
          "name": "stdout",
          "text": [
            "The word 'python' was not found in the file.\n"
          ]
        }
      ]
    },
    {
      "cell_type": "markdown",
      "source": [
        "**22.How can you check if a file is empty before attempting to read its contents?**\n",
        "\n",
        "-> We can check if a file is empty by checking its size before reading its contents. This can be done using the os.path.getsize() function from the os module. If the file size is 0, it is considered empty.\n",
        "\n",
        "Here's how you can do it:"
      ],
      "metadata": {
        "id": "jmyIzfMKKl_y"
      }
    },
    {
      "cell_type": "code",
      "source": [
        "import os\n",
        "\n",
        "def is_file_empty(file_name):\n",
        "    return os.path.getsize(file_name) == 0\n",
        "\n",
        "# Example usage\n",
        "file_name = 'file.txt'\n",
        "\n",
        "# Check if the file is empty before reading\n",
        "if is_file_empty(file_name):\n",
        "    print(f\"The file '{file_name}' is empty.\")\n",
        "else:\n",
        "    with open(file_name, 'r') as file:\n",
        "        content = file.read()\n",
        "        print(content)\n"
      ],
      "metadata": {
        "colab": {
          "base_uri": "https://localhost:8080/"
        },
        "id": "os_vl4MkKkdp",
        "outputId": "cb23148e-abc4-4bc2-e6f6-296cd6338a31"
      },
      "execution_count": 46,
      "outputs": [
        {
          "output_type": "stream",
          "name": "stdout",
          "text": [
            "Hello, world!This is the appended data.\n",
            "\n"
          ]
        }
      ]
    },
    {
      "cell_type": "markdown",
      "source": [
        "**23.Write a Python program that writes to a log file when an error occurs during file handling**?\n",
        "\n",
        "-> Here’s a Python program that writes to a log file whenever an error occurs during file handling using the logging module:"
      ],
      "metadata": {
        "id": "BZg528wTK8l5"
      }
    },
    {
      "cell_type": "code",
      "source": [
        "import logging\n",
        "\n",
        "# Set up logging to write errors to a log file\n",
        "logging.basicConfig(filename='file_error.log', level=logging.ERROR,\n",
        "                    format='%(asctime)s - %(levelname)s - %(message)s')\n",
        "\n",
        "def read_file(file_name):\n",
        "    try:\n",
        "        with open(file_name, 'r') as file:\n",
        "            content = file.read()\n",
        "            print(content)\n",
        "    except FileNotFoundError as e:\n",
        "        logging.error(f\"File not found: {file_name}. Error: {e}\")\n",
        "    except PermissionError as e:\n",
        "        logging.error(f\"Permission error when trying to read file: {file_name}. Error: {e}\")\n",
        "    except Exception as e:\n",
        "        logging.error(f\"An error occurred while handling the file: {file_name}. Error: {e}\")\n",
        "\n",
        "# Example usage\n",
        "file_name = 'nonexistent_file.txt'  # Specify a file that does not exist to trigger an error\n",
        "read_file(file_name)\n"
      ],
      "metadata": {
        "colab": {
          "base_uri": "https://localhost:8080/"
        },
        "id": "sbJpzAenK7eV",
        "outputId": "5a37623e-ca17-4453-a0e0-73dc940db9a7"
      },
      "execution_count": 47,
      "outputs": [
        {
          "output_type": "stream",
          "name": "stderr",
          "text": [
            "ERROR:root:File not found: nonexistent_file.txt. Error: [Errno 2] No such file or directory: 'nonexistent_file.txt'\n"
          ]
        }
      ]
    },
    {
      "cell_type": "code",
      "source": [],
      "metadata": {
        "id": "IiUWWgEuLO1i"
      },
      "execution_count": null,
      "outputs": []
    }
  ]
}